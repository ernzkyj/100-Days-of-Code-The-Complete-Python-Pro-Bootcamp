{
 "cells": [
  {
   "cell_type": "code",
   "execution_count": 1,
   "id": "982ed1a8-1fbd-4671-bf18-3bc569a84dcb",
   "metadata": {},
   "outputs": [
    {
     "name": "stdout",
     "output_type": "stream",
     "text": [
      "Welcome to Treasure Island.\n",
      "Your mission is to find the treasure.\n"
     ]
    },
    {
     "name": "stdin",
     "output_type": "stream",
     "text": [
      "You come to a crossroad, where do you want to go? Type 'left' or 'right'. left\n",
      "You reached a lake. There is an island in the middle of the lake. Type 'wait' to wait for a boat. Type 'swim' to swim across. wait\n",
      "You arrive at the island unharmed. There is a house with 3 doors. One red, one yellow and one blue. Which colour do you choose? yellow\n"
     ]
    },
    {
     "name": "stdout",
     "output_type": "stream",
     "text": [
      "Sparkling in the corner of the room, you inched your way towards it. You found the treasure! Hurray!\n"
     ]
    }
   ],
   "source": [
    "print(\"Welcome to Treasure Island.\")\n",
    "print(\"Your mission is to find the treasure.\")\n",
    "choice1 = input(\"You come to a crossroad, where do you want to go? Type 'left' or 'right'.\").lower()\n",
    "\n",
    "if choice1 == 'left':\n",
    "    choice2 = input(\"You reached a lake. There is an island in the middle of the lake. Type 'wait' to wait for a boat. Type 'swim' to swim across.\").lower()\n",
    "    if choice2 == 'wait':\n",
    "        choice3 = input(\"You arrive at the island unharmed. There is a house with 3 doors. One red, one yellow and one blue. Which colour do you choose?\").lower()\n",
    "        if choice3 == \"red\":\n",
    "            print(\"You opened the door and an inferno blazed over you. You're toast.\")\n",
    "        elif choice3 == \"yellow\":\n",
    "            print(\"Sparkling in the corner of the room, you inched your way towards it. You found the treasure! Hurray!\")\n",
    "        elif choice3 == \"blue\":\n",
    "            print(\"You entered a room full of savage beasts that are salivating. They snarled and charged towards you. Game Over.\")\n",
    "        else:\n",
    "            print(\"You chose a door that does not exist. Game Over.\")\n",
    "    else:\n",
    "        print(\"You got attacked by piranhas. Game Over.\")\n",
    "else:\n",
    "    print(\"You fell into a trap hole. Game Over.\")\n"
   ]
  },
  {
   "cell_type": "code",
   "execution_count": null,
   "id": "ae32e1c8-f19a-401a-8243-e332512d23f9",
   "metadata": {},
   "outputs": [],
   "source": []
  }
 ],
 "metadata": {
  "kernelspec": {
   "display_name": "Python 3 (ipykernel)",
   "language": "python",
   "name": "python3"
  },
  "language_info": {
   "codemirror_mode": {
    "name": "ipython",
    "version": 3
   },
   "file_extension": ".py",
   "mimetype": "text/x-python",
   "name": "python",
   "nbconvert_exporter": "python",
   "pygments_lexer": "ipython3",
   "version": "3.12.4"
  }
 },
 "nbformat": 4,
 "nbformat_minor": 5
}
